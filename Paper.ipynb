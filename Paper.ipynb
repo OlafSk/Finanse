{
 "cells": [
  {
   "cell_type": "code",
   "execution_count": 197,
   "metadata": {
    "ExecuteTime": {
     "end_time": "2017-11-14T17:46:13.615343Z",
     "start_time": "2017-11-14T17:46:13.603715Z"
    },
    "hide_input": true
   },
   "outputs": [],
   "source": [
    "import pandas as pd\n",
    "import seaborn as sns\n",
    "import numpy as np\n",
    "from sklearn.model_selection import train_test_split, GridSearchCV\n",
    "from sklearn.preprocessing import StandardScaler, MinMaxScaler\n",
    "from sklearn.svm import SVR, SVC\n",
    "from sklearn.metrics import accuracy_score, f1_score, roc_auc_score, confusion_matrix\n",
    "from sklearn.ensemble import RandomForestRegressor, RandomForestClassifier\n",
    "from sklearn.linear_model import LogisticRegression, LinearRegression\n",
    "from sklearn.metrics import precision_recall_curve, auc\n",
    "import matplotlib.pyplot as plt\n",
    "from xgboost import XGBClassifier, XGBRegressor\n",
    "%matplotlib inline"
   ]
  },
  {
   "cell_type": "markdown",
   "metadata": {},
   "source": [
    "## Próba reakreowania statystyk z https://arxiv.org/pdf/1706.00948.pdf"
   ]
  },
  {
   "cell_type": "markdown",
   "metadata": {},
   "source": [
    "Zbiór df zawiera wszystkie wskaźniki techiczne wymienione w artykule. Tam gdzie autorzy nie podali parametrów stosowałem te domyślnie. Przy tworzeniu wskaźników korzystałem z biblioteki TALIB."
   ]
  },
  {
   "cell_type": "code",
   "execution_count": 198,
   "metadata": {
    "ExecuteTime": {
     "end_time": "2017-11-14T17:46:13.713952Z",
     "start_time": "2017-11-14T17:46:13.617102Z"
    },
    "collapsed": true,
    "hide_input": false
   },
   "outputs": [],
   "source": [
    "df = pd.read_csv(\"/home/olaf/Finanse/spx_ta.csv\", index_col=0)\n",
    "\n",
    "y1 = df['target1']\n",
    "y3 = df['target3']\n",
    "y5 = df['target5']\n",
    "X = df.drop(['target1','target3','target5'], axis=1)"
   ]
  },
  {
   "cell_type": "markdown",
   "metadata": {},
   "source": [
    "Tworzymy 3 zmienne celu:\n",
    "    1)Zwrot po 1 dniu\n",
    "    2)Zwrot po 3 dniach\n",
    "    3)Zwrot po 5 dniach"
   ]
  },
  {
   "cell_type": "markdown",
   "metadata": {},
   "source": [
    "Najpierw wystandaryzujemy zbiór X"
   ]
  },
  {
   "cell_type": "code",
   "execution_count": 199,
   "metadata": {
    "ExecuteTime": {
     "end_time": "2017-11-14T17:46:13.732754Z",
     "start_time": "2017-11-14T17:46:13.716270Z"
    }
   },
   "outputs": [],
   "source": [
    "X = StandardScaler().fit_transform(X)"
   ]
  },
  {
   "cell_type": "markdown",
   "metadata": {},
   "source": [
    "Nie będziemy korzystać z funkcji train_test_split z sklearnu ponieważ losuje ona zbiór testowy, a my do testów chcemy zbiór, taki móc sprawdzić jak model radzi sobie z danymi, których wcześniej nie widział(nowy przedział czasowy)"
   ]
  },
  {
   "cell_type": "code",
   "execution_count": 200,
   "metadata": {
    "ExecuteTime": {
     "end_time": "2017-11-14T17:46:13.784097Z",
     "start_time": "2017-11-14T17:46:13.736663Z"
    },
    "collapsed": true
   },
   "outputs": [],
   "source": [
    "def train_test(X,y, size):\n",
    "    X_train = X[:-size,]\n",
    "    X_test = X[-size:,]\n",
    "    y_train = y[:-size]\n",
    "    y_test = y[-size:]\n",
    "    return X_train, X_test, y_train, y_test"
   ]
  },
  {
   "cell_type": "markdown",
   "metadata": {
    "ExecuteTime": {
     "end_time": "2017-11-14T17:06:21.379961Z",
     "start_time": "2017-11-14T17:06:21.376116Z"
    }
   },
   "source": [
    "Zdefiniujemy sobie funkcję, która rysuje Precision-Recall curve i liczy pole pod jej powierzchnią i będziemy z niej korzystać by oceniać jakość modeli."
   ]
  },
  {
   "cell_type": "code",
   "execution_count": 201,
   "metadata": {
    "ExecuteTime": {
     "end_time": "2017-11-14T17:46:13.828876Z",
     "start_time": "2017-11-14T17:46:13.787430Z"
    },
    "collapsed": true
   },
   "outputs": [],
   "source": [
    "def p_r_curve(y_test, preds, thresh = 10):\n",
    "    probas = MinMaxScaler().fit_transform(preds.reshape(-1,1))\n",
    "    p, r, t = precision_recall_curve(y_test > thresh, probas)\n",
    "    plt.step(r,p)\n",
    "    plt.fill_between(r, p, step='post', alpha=0.2,\n",
    "                 color='b')\n",
    "    print(auc(r,p))"
   ]
  },
  {
   "cell_type": "code",
   "execution_count": 202,
   "metadata": {
    "ExecuteTime": {
     "end_time": "2017-11-14T17:46:13.881855Z",
     "start_time": "2017-11-14T17:46:13.831491Z"
    },
    "collapsed": true
   },
   "outputs": [],
   "source": [
    "X_train, X_test, y_train, y_test = train_test(X,y5, 1500)"
   ]
  },
  {
   "cell_type": "markdown",
   "metadata": {},
   "source": [
    "Będziemy sprawdzać 3 modele:\n",
    "<br>\n",
    "1)SVM\n",
    "<br>\n",
    "2)Random Forest\n",
    "<br>\n",
    "3)Xgboost"
   ]
  },
  {
   "cell_type": "code",
   "execution_count": 203,
   "metadata": {
    "ExecuteTime": {
     "end_time": "2017-11-14T17:46:14.570567Z",
     "start_time": "2017-11-14T17:46:13.884161Z"
    }
   },
   "outputs": [],
   "source": [
    "svr = SVR(kernel=\"poly\")\n",
    "svr.fit(X_train, y_train)\n",
    "preds = svr.predict(X_test)"
   ]
  },
  {
   "cell_type": "code",
   "execution_count": 204,
   "metadata": {
    "ExecuteTime": {
     "end_time": "2017-11-14T17:46:14.752193Z",
     "start_time": "2017-11-14T17:46:14.573299Z"
    }
   },
   "outputs": [
    {
     "name": "stdout",
     "output_type": "stream",
     "text": [
      "0.576173397057\n"
     ]
    },
    {
     "data": {
      "image/png": "[encoded data removed]",
      "text/plain": [
       "<matplotlib.figure.Figure at 0x7f8f4e8c5828>"
      ]
     },
     "metadata": {},
     "output_type": "display_data"
    }
   ],
   "source": [
    "p_r_curve(y_test, preds, 5)"
   ]
  },
  {
   "cell_type": "code",
   "execution_count": 205,
   "metadata": {
    "ExecuteTime": {
     "end_time": "2017-11-14T17:46:15.654216Z",
     "start_time": "2017-11-14T17:46:14.754036Z"
    }
   },
   "outputs": [],
   "source": [
    "rf = RandomForestRegressor(n_estimators=100, max_depth=3)\n",
    "rf.fit(X_train, y_train)\n",
    "preds = rf.predict(X_test)"
   ]
  },
  {
   "cell_type": "code",
   "execution_count": 206,
   "metadata": {
    "ExecuteTime": {
     "end_time": "2017-11-14T17:46:15.835334Z",
     "start_time": "2017-11-14T17:46:15.656010Z"
    },
    "scrolled": true
   },
   "outputs": [
    {
     "name": "stdout",
     "output_type": "stream",
     "text": [
      "0.587406734442\n"
     ]
    },
    {
     "data": {
      "image/png": "[encoded data removed]",
      "text/plain": [
       "<matplotlib.figure.Figure at 0x7f8f4eff26d8>"
      ]
     },
     "metadata": {},
     "output_type": "display_data"
    }
   ],
   "source": [
    "p_r_curve(y_test, preds, 5)"
   ]
  },
  {
   "cell_type": "code",
   "execution_count": 207,
   "metadata": {
    "ExecuteTime": {
     "end_time": "2017-11-14T17:46:16.866159Z",
     "start_time": "2017-11-14T17:46:15.836798Z"
    }
   },
   "outputs": [],
   "source": [
    "xgr = XGBRegressor()\n",
    "xgr.fit(X_train, y_train)\n",
    "preds = xgr.predict(X_test)"
   ]
  },
  {
   "cell_type": "code",
   "execution_count": 208,
   "metadata": {
    "ExecuteTime": {
     "end_time": "2017-11-14T17:46:17.899621Z",
     "start_time": "2017-11-14T17:46:16.892285Z"
    }
   },
   "outputs": [
    {
     "name": "stdout",
     "output_type": "stream",
     "text": [
      "0.547995618041\n"
     ]
    },
    {
     "data": {
      "image/png": "[encoded data removed]",
      "text/plain": [
       "<matplotlib.figure.Figure at 0x7f8f4ea5e4e0>"
      ]
     },
     "metadata": {},
     "output_type": "display_data"
    }
   ],
   "source": [
    "p_r_curve(y_test, preds, 5)"
   ]
  },
  {
   "cell_type": "markdown",
   "metadata": {},
   "source": [
    "Spróbujmy zrobić ensemble modeli by zwiększyć ich skuteczność"
   ]
  },
  {
   "cell_type": "code",
   "execution_count": 209,
   "metadata": {
    "ExecuteTime": {
     "end_time": "2017-11-14T17:46:18.069900Z",
     "start_time": "2017-11-14T17:46:17.909149Z"
    },
    "collapsed": true
   },
   "outputs": [],
   "source": [
    "preds_svr = MinMaxScaler().fit_transform(svr.predict(X_test).reshape(-1,1))"
   ]
  },
  {
   "cell_type": "code",
   "execution_count": 210,
   "metadata": {
    "ExecuteTime": {
     "end_time": "2017-11-14T17:46:18.087206Z",
     "start_time": "2017-11-14T17:46:18.072547Z"
    },
    "collapsed": true
   },
   "outputs": [],
   "source": [
    "preds_rf = MinMaxScaler().fit_transform(rf.predict(X_test).reshape(-1,1))"
   ]
  },
  {
   "cell_type": "code",
   "execution_count": 211,
   "metadata": {
    "ExecuteTime": {
     "end_time": "2017-11-14T17:46:18.140506Z",
     "start_time": "2017-11-14T17:46:18.090209Z"
    },
    "collapsed": true
   },
   "outputs": [],
   "source": [
    "preds_xgb = MinMaxScaler().fit_transform(xgr.predict(X_test).reshape(-1,1))"
   ]
  },
  {
   "cell_type": "code",
   "execution_count": 212,
   "metadata": {
    "ExecuteTime": {
     "end_time": "2017-11-14T17:46:18.157035Z",
     "start_time": "2017-11-14T17:46:18.143480Z"
    },
    "collapsed": true
   },
   "outputs": [],
   "source": [
    "preds = preds_svr  + preds_xgb + preds_rf\n",
    "preds = preds/3"
   ]
  },
  {
   "cell_type": "code",
   "execution_count": 213,
   "metadata": {
    "ExecuteTime": {
     "end_time": "2017-11-14T17:46:18.209880Z",
     "start_time": "2017-11-14T17:46:18.164141Z"
    }
   },
   "outputs": [],
   "source": [
    "p, r, t = precision_recall_curve(y_test > 3, preds)"
   ]
  },
  {
   "cell_type": "code",
   "execution_count": 214,
   "metadata": {
    "ExecuteTime": {
     "end_time": "2017-11-14T17:46:18.526919Z",
     "start_time": "2017-11-14T17:46:18.216315Z"
    }
   },
   "outputs": [
    {
     "name": "stdout",
     "output_type": "stream",
     "text": [
      "0.562912510173\n"
     ]
    },
    {
     "data": {
      "image/png": "[encoded data removed]",
      "text/plain": [
       "<matplotlib.figure.Figure at 0x7f8f4e97e470>"
      ]
     },
     "metadata": {},
     "output_type": "display_data"
    }
   ],
   "source": [
    "p_r_curve(y_test, preds,5)"
   ]
  },
  {
   "cell_type": "markdown",
   "metadata": {},
   "source": [
    "Zobaczmy jak wygląda średni zysk po stosowaniu różnych wartośći thresholdu na wartości"
   ]
  },
  {
   "cell_type": "code",
   "execution_count": 215,
   "metadata": {
    "ExecuteTime": {
     "end_time": "2017-11-14T17:46:18.600593Z",
     "start_time": "2017-11-14T17:46:18.529996Z"
    }
   },
   "outputs": [
    {
     "name": "stderr",
     "output_type": "stream",
     "text": [
      "/home/olaf/anaconda3/lib/python3.6/site-packages/ipykernel_launcher.py:3: RuntimeWarning: Mean of empty slice.\n",
      "  This is separate from the ipykernel package so we can avoid doing imports until\n",
      "/home/olaf/anaconda3/lib/python3.6/site-packages/numpy/core/_methods.py:80: RuntimeWarning: invalid value encountered in double_scalars\n",
      "  ret = ret.dtype.type(ret / rcount)\n"
     ]
    }
   ],
   "source": [
    "zyski = []\n",
    "for tresh in t:\n",
    "    zyski.append(y_test.values.reshape(-1,1)[preds>tresh].mean())\n",
    "trials = []\n",
    "for tresh in t:\n",
    "    trials.append(len(y_test.values.reshape(-1,1)[preds>tresh]))"
   ]
  },
  {
   "cell_type": "code",
   "execution_count": 216,
   "metadata": {
    "ExecuteTime": {
     "end_time": "2017-11-14T17:46:19.031134Z",
     "start_time": "2017-11-14T17:46:18.602634Z"
    }
   },
   "outputs": [
    {
     "data": {
      "text/plain": [
       "<matplotlib.legend.Legend at 0x7f8f4e4fcba8>"
      ]
     },
     "execution_count": 216,
     "metadata": {},
     "output_type": "execute_result"
    },
    {
     "data": {
      "image/png": "[encoded data removed]",
      "text/plain": [
       "<matplotlib.figure.Figure at 0x7f8f4e8ca8d0>"
      ]
     },
     "metadata": {},
     "output_type": "display_data"
    }
   ],
   "source": [
    "plt.plot(zyski, c='green', label=\"Sredni Zysk\")\n",
    "plt.legend()\n",
    "plt.twinx()\n",
    "plt.plot(trials, label=\"Liczba prob na 1500\")\n",
    "plt.legend()"
   ]
  }
 ],
 "metadata": {
  "kernelspec": {
   "display_name": "Python 3",
   "language": "python",
   "name": "python3"
  },
  "language_info": {
   "codemirror_mode": {
    "name": "ipython",
    "version": 3
   },
   "file_extension": ".py",
   "mimetype": "text/x-python",
   "name": "python",
   "nbconvert_exporter": "python",
   "pygments_lexer": "ipython3",
   "version": "3.6.2"
  },
  "varInspector": {
   "cols": {
    "lenName": 16,
    "lenType": 16,
    "lenVar": 40
   },
   "kernels_config": {
    "python": {
     "delete_cmd_postfix": "",
     "delete_cmd_prefix": "del ",
     "library": "var_list.py",
     "varRefreshCmd": "print(var_dic_list())"
    },
    "r": {
     "delete_cmd_postfix": ") ",
     "delete_cmd_prefix": "rm(",
     "library": "var_list.r",
     "varRefreshCmd": "cat(var_dic_list()) "
    }
   },
   "position": {
    "height": "586px",
    "left": "1185px",
    "right": "61px",
    "top": "72px",
    "width": "354px"
   },
   "types_to_exclude": [
    "module",
    "function",
    "builtin_function_or_method",
    "instance",
    "_Feature"
   ],
   "window_display": false
  }
 },
 "nbformat": 4,
 "nbformat_minor": 2
}
